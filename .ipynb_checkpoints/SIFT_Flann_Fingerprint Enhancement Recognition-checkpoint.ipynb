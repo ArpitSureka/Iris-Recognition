{
 "cells": [
  {
   "cell_type": "code",
   "execution_count": null,
   "id": "d90c8a2c",
   "metadata": {},
   "outputs": [],
   "source": []
  },
  {
   "cell_type": "code",
   "execution_count": null,
   "id": "56038f30",
   "metadata": {},
   "outputs": [],
   "source": [
    "import fingerprint_enhancer  # Load the library\n",
    "import cv2\n",
    "print(type(dataset))\n",
    "for i in range(len(dataset)):\n",
    "  img = cv2.imread(dataset[i]) # read input image\n",
    "  dataset[i] = fingerprint_enhancer.enhance_Fingerprint(img)  # enhance the fingerprint image\n",
    "  cv2_imshow(dataset[i]);   # display the result\n",
    "  # cv2_imshow(0)\n",
    "  # break"
   ]
  }
 ],
 "metadata": {
  "kernelspec": {
   "display_name": "Python 3 (ipykernel)",
   "language": "python",
   "name": "python3"
  },
  "language_info": {
   "codemirror_mode": {
    "name": "ipython",
    "version": 3
   },
   "file_extension": ".py",
   "mimetype": "text/x-python",
   "name": "python",
   "nbconvert_exporter": "python",
   "pygments_lexer": "ipython3",
   "version": "3.10.7"
  }
 },
 "nbformat": 4,
 "nbformat_minor": 5
}
