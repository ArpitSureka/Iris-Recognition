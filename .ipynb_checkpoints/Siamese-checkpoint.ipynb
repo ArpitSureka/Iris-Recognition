{
 "cells": [
  {
   "cell_type": "code",
   "execution_count": null,
   "id": "b48f3342-623d-4777-84f1-5c43f48dac91",
   "metadata": {
    "id": "b48f3342-623d-4777-84f1-5c43f48dac91"
   },
   "outputs": [],
   "source": [
    "import numpy as np\n",
    "import cv2\n",
    "import os, os.path\n",
    "import pandas as pd\n",
    "import math\n",
    "import matplotlib.pyplot as plt\n",
    "import tensorflow as tf\n",
    "from tensorflow.keras.models import Model\n",
    "from tensorflow.keras.layers import Input\n",
    "from tensorflow.keras.layers import Conv2D\n",
    "from tensorflow.keras.layers import Dense\n",
    "from tensorflow.keras.layers import Dropout\n",
    "from tensorflow.keras.layers import GlobalAveragePooling2D\n",
    "from tensorflow.keras.layers import MaxPooling2D\n",
    "from tensorflow.keras.layers import Lambda\n",
    "import tensorflow.keras.backend as K\n",
    "import warnings\n",
    "warnings.filterwarnings('ignore')\n",
    "# tf.config.run_functions_eagerly(True)\n",
    "folder = \"E:\\BTP\\SOCOFing\\Test\"\n",
    "# folder = \"/content/Fingerprint\""
   ]
  },
  {
   "cell_type": "code",
   "execution_count": null,
   "id": "ddcc5848-ee57-4b73-91dd-d68b5942f2c8",
   "metadata": {
    "id": "ddcc5848-ee57-4b73-91dd-d68b5942f2c8"
   },
   "outputs": [],
   "source": []
  },
  {
   "cell_type": "code",
   "execution_count": null,
   "id": "e5d3a30b-18c3-4c54-92b9-e692cee3868d",
   "metadata": {
    "id": "e5d3a30b-18c3-4c54-92b9-e692cee3868d"
   },
   "outputs": [],
   "source": [
    "def create_model():\n",
    "    inputs = Input((103, 96, 1))\n",
    "    x = Conv2D(100, (11, 11), padding=\"same\", activation=\"relu\")(inputs)\n",
    "    x = MaxPooling2D(pool_size=(2, 2))(x)\n",
    "    x = Dropout(0.3)(x)\n",
    "\n",
    "    x = Conv2D(256, (5, 5), padding=\"same\", activation=\"relu\")(x)\n",
    "    x = MaxPooling2D(pool_size=(2, 2))(x)\n",
    "    x = Dropout(0.3)(x)\n",
    "\n",
    "    x = Conv2D(384, (3, 3), padding=\"same\", activation=\"relu\")(x)\n",
    "    x = MaxPooling2D(pool_size=(2, 2))(x)\n",
    "    x = Dropout(0.3)(x)\n",
    "\n",
    "    pooledOutput = GlobalAveragePooling2D()(x)\n",
    "    pooledOutput = Dense(1024)(pooledOutput)\n",
    "    outputs = Dense(128)(pooledOutput)\n",
    "\n",
    "    model = Model(inputs, outputs)\n",
    "    return model"
   ]
  },
  {
   "cell_type": "code",
   "execution_count": null,
   "id": "b91b84f1-91b4-4acd-9362-74b218f5296d",
   "metadata": {
    "id": "b91b84f1-91b4-4acd-9362-74b218f5296d"
   },
   "outputs": [],
   "source": [
    "feature_extractor = create_model()\n",
    "imgA = Input(shape=(103, 96, 1))\n",
    "imgB = Input(shape=(103, 96, 1))\n",
    "featA = feature_extractor(imgA)\n",
    "featB = feature_extractor(imgB)"
   ]
  },
  {
   "cell_type": "code",
   "execution_count": null,
   "id": "9114b292-2fe7-41dc-add2-fc543523d710",
   "metadata": {
    "id": "9114b292-2fe7-41dc-add2-fc543523d710"
   },
   "outputs": [],
   "source": [
    "def euclidean_distance(vectors):\n",
    "    (featA, featB) = vectors\n",
    "    sum_squared = K.sum(K.square(featA - featB), axis=1, keepdims=True)\n",
    "    return K.sqrt(K.maximum(sum_squared, K.epsilon()))\n",
    "\n",
    "distance = Lambda(euclidean_distance)([featA, featB])\n",
    "outputs = Dense(1, activation=\"sigmoid\")(distance)\n",
    "model = Model(inputs=[imgA, imgB], outputs=outputs)"
   ]
  },
  {
   "cell_type": "code",
   "execution_count": null,
   "id": "e6e16c1f-e2d8-41d7-81f7-cf43aa91c87f",
   "metadata": {
    "id": "e6e16c1f-e2d8-41d7-81f7-cf43aa91c87f"
   },
   "outputs": [],
   "source": [
    "model.compile(loss=\"binary_crossentropy\", optimizer=\"adam\", metrics=[\"accuracy\"])"
   ]
  },
  {
   "cell_type": "code",
   "execution_count": null,
   "id": "50c673b7-dae2-475b-af5b-bb47e93bb66d",
   "metadata": {
    "id": "50c673b7-dae2-475b-af5b-bb47e93bb66d"
   },
   "outputs": [],
   "source": [
    "def generate_train_image_pairs():    \n",
    "    pair_images = []\n",
    "    pair_labels = []\n",
    "    for index, image_name in enumerate(os.listdir(folder)):\n",
    "        \n",
    "        image = cv2.imread(os.path.join(folder, image_name), 0)\n",
    "        img = np.expand_dims(image, axis=2)\n",
    "        height, width = image.shape[:2]\n",
    "        center = (width/2, height/2)\n",
    "        \n",
    "        rotate_matrix = cv2.getRotationMatrix2D(center=center, angle=np.random.randint(360), scale=1)\n",
    "        pos_rotated_image = cv2.warpAffine(src=image, M=rotate_matrix, dsize=(width, height))\n",
    "        pos_rotated_image = np.expand_dims(pos_rotated_image, axis=2)\n",
    "        for temp in range(10):\n",
    "            rotate_matrix = cv2.getRotationMatrix2D(center=center, angle=np.random.randint(360), scale=1)\n",
    "            pos_rotated_image = cv2.warpAffine(src=image, M=rotate_matrix, dsize=(width, height))\n",
    "            pos_rotated_image = np.expand_dims(pos_rotated_image, axis=2)\n",
    "            pair_images.append((img, pos_rotated_image))\n",
    "            pair_labels.append(1)\n",
    "            \n",
    "            name=image_name\n",
    "            while name==image_name:\n",
    "                name = np.random.choice(os.listdir(folder))\n",
    "            neg_image = cv2.imread(os.path.join(folder, name), 0)\n",
    "            neg_image = np.expand_dims(neg_image, axis=2)\n",
    "            pair_images.append((img, neg_image))\n",
    "            pair_labels.append(0)\n",
    "    return np.array(pair_images), np.array(pair_labels)"
   ]
  },
  {
   "cell_type": "code",
   "execution_count": null,
   "id": "7a1f1758-062c-456c-bbf5-060fd32dd934",
   "metadata": {},
   "outputs": [],
   "source": [
    "images_pair, labels_pair = generate_train_image_pairs()"
   ]
  },
  {
   "cell_type": "code",
   "execution_count": null,
   "id": "99540f47-717e-423e-ba9c-7b3d466f6fcc",
   "metadata": {},
   "outputs": [],
   "source": [
    "!mkdir tmp\n",
    "checkpoint_filepath = '/tmp'\n",
    "model_checkpoint_callback = tf.keras.callbacks.ModelCheckpoint(\n",
    "    filepath=checkpoint_filepath,\n",
    "    monitor='val_accuracy',\n",
    "    mode='max',\n",
    "    save_freq=\"epoch\", verbose=1)"
   ]
  },
  {
   "cell_type": "code",
   "execution_count": null,
   "id": "81cf18ed-0cb6-4426-98a5-962cd57c0071",
   "metadata": {
    "colab": {
     "base_uri": "https://localhost:8080/"
    },
    "id": "81cf18ed-0cb6-4426-98a5-962cd57c0071",
    "outputId": "edf139b2-1e97-4679-b731-112342b1f2ec"
   },
   "outputs": [],
   "source": [
    "history = model.fit([images_pair[:, 0], images_pair[:, 1]], labels_pair[:],validation_split=0.1,batch_size=60,epochs=100\n",
    "                    , callbacks=[model_checkpoint_callback])"
   ]
  },
  {
   "cell_type": "code",
   "execution_count": null,
   "id": "ff3aeff8-ad50-4991-ae9e-4313b49df61a",
   "metadata": {},
   "outputs": [],
   "source": []
  },
  {
   "cell_type": "code",
   "execution_count": null,
   "id": "d503d53d-6aac-401c-80db-a7494103b6d1",
   "metadata": {},
   "outputs": [],
   "source": []
  },
  {
   "cell_type": "code",
   "execution_count": null,
   "id": "sL25IERRUWFm",
   "metadata": {
    "id": "sL25IERRUWFm"
   },
   "outputs": [],
   "source": [
    "images_pair.shape"
   ]
  },
  {
   "cell_type": "code",
   "execution_count": null,
   "id": "5e300d0b-83ac-4247-abe5-0e37447fadf1",
   "metadata": {
    "id": "5e300d0b-83ac-4247-abe5-0e37447fadf1"
   },
   "outputs": [],
   "source": [
    "!mkdir -p siamese_model\n",
    "model.save('siamese_model/first_model')"
   ]
  },
  {
   "cell_type": "code",
   "execution_count": null,
   "id": "5a1e76ce-9819-4987-a3ad-e94dad70591d",
   "metadata": {
    "id": "5a1e76ce-9819-4987-a3ad-e94dad70591d"
   },
   "outputs": [],
   "source": []
  },
  {
   "cell_type": "code",
   "execution_count": null,
   "id": "a2fa04e2-55a4-4e3d-bde9-c60c237d0a8f",
   "metadata": {
    "id": "a2fa04e2-55a4-4e3d-bde9-c60c237d0a8f"
   },
   "outputs": [],
   "source": [
    "# a random image as test image\n",
    "# rnd_image = cv2.imread(os.path.join(folder,np.random.choice(os.listdir(folder))))\n",
    "rnd_image = cv2.imread(os.path.join(folder, os.listdir(folder)[57]), 0)\n",
    "rnd_image_clr = cv2.imread(os.path.join(folder, os.listdir(folder)[57]))\n",
    "pair_image1 = np.expand_dims(rnd_image, axis=-1)\n",
    "pair_image1 = np.expand_dims(pair_image1, axis=0)\n",
    "\n",
    "for index, name in enumerate(os.listdir(folder)[52:]):\n",
    "    test_img = cv2.imread(os.path.join(folder, name), 0)\n",
    "    test_img_clr = cv2.imread(os.path.join(folder, name))\n",
    "    pair_image2 = np.expand_dims(test_img, axis=-1)\n",
    "    pair_image2 = np.expand_dims(pair_image2, axis=0)\n",
    "    prediction = model.predict([pair_image1, pair_image2])[0][0]\n",
    "    \n",
    "    if index==57: \n",
    "        c_map = 'Greens'\n",
    "    else:\n",
    "        c_map = 'Reds'\n",
    "    \n",
    "    f = plt.figure(figsize=(6,3))\n",
    "    sp = f.add_subplot(1, 4, 1)\n",
    "    plt.imshow(rnd_image_clr ,cmap=c_map)\n",
    "    sp = f.add_subplot(1, 4, 4)\n",
    "    plt.title(\"Score-{0:1.2f}%   Img no.\".format(prediction)+str(index))\n",
    "    plt.imshow(cv2.cvtColor(test_img_clr, cv2.COLOR_BGR2GRAY),cmap=c_map)\n",
    "    \n",
    "    "
   ]
  },
  {
   "cell_type": "code",
   "execution_count": null,
   "id": "77efe4d5-9a31-42d4-b856-d290292cf423",
   "metadata": {
    "id": "77efe4d5-9a31-42d4-b856-d290292cf423"
   },
   "outputs": [],
   "source": [
    "pair_image2.shape"
   ]
  },
  {
   "cell_type": "code",
   "execution_count": null,
   "id": "00006cce-bebd-46ef-918a-ea060c6d43fe",
   "metadata": {},
   "outputs": [],
   "source": []
  }
 ],
 "metadata": {
  "colab": {
   "provenance": []
  },
  "kernelspec": {
   "display_name": "Python [conda env:envpytorch]",
   "language": "python",
   "name": "conda-env-envpytorch-py"
  },
  "language_info": {
   "codemirror_mode": {
    "name": "ipython",
    "version": 3
   },
   "file_extension": ".py",
   "mimetype": "text/x-python",
   "name": "python",
   "nbconvert_exporter": "python",
   "pygments_lexer": "ipython3",
   "version": "3.7.3"
  }
 },
 "nbformat": 4,
 "nbformat_minor": 5
}
